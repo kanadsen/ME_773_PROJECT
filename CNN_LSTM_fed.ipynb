{
 "cells": [
  {
   "cell_type": "markdown",
   "metadata": {},
   "source": [
    "IMPORTING REQUIRED PACKAGES"
   ]
  },
  {
   "cell_type": "code",
   "execution_count": 1,
   "metadata": {},
   "outputs": [],
   "source": [
    "from packages_imp import*\n",
    "np.random.seed(34)\n",
    "\n",
    "#Importing functions from jupyter notebook\n",
    "from ipynb.fs.full.dat_preprocess import*\n"
   ]
  },
  {
   "cell_type": "code",
   "execution_count": 2,
   "metadata": {},
   "outputs": [
    {
     "name": "stdout",
     "output_type": "stream",
     "text": [
      "       ENGINE_ID  CONDITION_ID  Cycle_Time  OpSet1  OpSet2  OpSet3  \\\n",
      "0              1             1           1 -0.0007 -0.0004   100.0   \n",
      "1              1             1           2  0.0019 -0.0003   100.0   \n",
      "2              1             1           3 -0.0043  0.0003   100.0   \n",
      "3              1             1           4  0.0007  0.0000   100.0   \n",
      "4              1             1           5 -0.0019 -0.0002   100.0   \n",
      "...          ...           ...         ...     ...     ...     ...   \n",
      "20626        100             1         196 -0.0004 -0.0003   100.0   \n",
      "20627        100             1         197 -0.0016 -0.0005   100.0   \n",
      "20628        100             1         198  0.0004  0.0000   100.0   \n",
      "20629        100             1         199 -0.0011  0.0003   100.0   \n",
      "20630        100             1         200 -0.0032 -0.0005   100.0   \n",
      "\n",
      "       SensorMeasure1  SensorMeasure2  SensorMeasure3  SensorMeasure4  ...  \\\n",
      "0              518.67          641.82         1589.70         1400.60  ...   \n",
      "1              518.67          642.15         1591.82         1403.14  ...   \n",
      "2              518.67          642.35         1587.99         1404.20  ...   \n",
      "3              518.67          642.35         1582.79         1401.87  ...   \n",
      "4              518.67          642.37         1582.85         1406.22  ...   \n",
      "...               ...             ...             ...             ...  ...   \n",
      "20626          518.67          643.49         1597.98         1428.63  ...   \n",
      "20627          518.67          643.54         1604.50         1433.58  ...   \n",
      "20628          518.67          643.42         1602.46         1428.18  ...   \n",
      "20629          518.67          643.23         1605.26         1426.53  ...   \n",
      "20630          518.67          643.85         1600.38         1432.14  ...   \n",
      "\n",
      "       SensorMeasure12  SensorMeasure13  SensorMeasure14  SensorMeasure15  \\\n",
      "0               521.66          2388.02          8138.62           8.4195   \n",
      "1               522.28          2388.07          8131.49           8.4318   \n",
      "2               522.42          2388.03          8133.23           8.4178   \n",
      "3               522.86          2388.08          8133.83           8.3682   \n",
      "4               522.19          2388.04          8133.80           8.4294   \n",
      "...                ...              ...              ...              ...   \n",
      "20626           519.49          2388.26          8137.60           8.4956   \n",
      "20627           519.68          2388.22          8136.50           8.5139   \n",
      "20628           520.01          2388.24          8141.05           8.5646   \n",
      "20629           519.67          2388.23          8139.29           8.5389   \n",
      "20630           519.30          2388.26          8137.33           8.5036   \n",
      "\n",
      "       SensorMeasure16  SensorMeasure17  SensorMeasure18  SensorMeasure19  \\\n",
      "0                 0.03              392             2388            100.0   \n",
      "1                 0.03              392             2388            100.0   \n",
      "2                 0.03              390             2388            100.0   \n",
      "3                 0.03              392             2388            100.0   \n",
      "4                 0.03              393             2388            100.0   \n",
      "...                ...              ...              ...              ...   \n",
      "20626             0.03              397             2388            100.0   \n",
      "20627             0.03              395             2388            100.0   \n",
      "20628             0.03              398             2388            100.0   \n",
      "20629             0.03              395             2388            100.0   \n",
      "20630             0.03              396             2388            100.0   \n",
      "\n",
      "       SensorMeasure20  SensorMeasure21  \n",
      "0                39.06          23.4190  \n",
      "1                39.00          23.4236  \n",
      "2                38.95          23.3442  \n",
      "3                38.88          23.3739  \n",
      "4                38.90          23.4044  \n",
      "...                ...              ...  \n",
      "20626            38.49          22.9735  \n",
      "20627            38.30          23.1594  \n",
      "20628            38.44          22.9333  \n",
      "20629            38.29          23.0640  \n",
      "20630            38.37          23.0522  \n",
      "\n",
      "[20631 rows x 27 columns]\n",
      "       ENGINE_ID  CONDITION_ID  Cycle_Time  OpSet1  OpSet2  OpSet3  \\\n",
      "0              1             1           1  0.0023  0.0003   100.0   \n",
      "1              1             1           2 -0.0027 -0.0003   100.0   \n",
      "2              1             1           3  0.0003  0.0001   100.0   \n",
      "3              1             1           4  0.0042  0.0000   100.0   \n",
      "4              1             1           5  0.0014  0.0000   100.0   \n",
      "...          ...           ...         ...     ...     ...     ...   \n",
      "13091        100             1         194  0.0049  0.0000   100.0   \n",
      "13092        100             1         195 -0.0011 -0.0001   100.0   \n",
      "13093        100             1         196 -0.0006 -0.0003   100.0   \n",
      "13094        100             1         197 -0.0038  0.0001   100.0   \n",
      "13095        100             1         198  0.0013  0.0003   100.0   \n",
      "\n",
      "       SensorMeasure1  SensorMeasure2  SensorMeasure3  SensorMeasure4  ...  \\\n",
      "0              518.67          643.02         1585.29         1398.21  ...   \n",
      "1              518.67          641.71         1588.45         1395.42  ...   \n",
      "2              518.67          642.46         1586.94         1401.34  ...   \n",
      "3              518.67          642.44         1584.12         1406.42  ...   \n",
      "4              518.67          642.51         1587.19         1401.92  ...   \n",
      "...               ...             ...             ...             ...  ...   \n",
      "13091          518.67          643.24         1599.45         1415.79  ...   \n",
      "13092          518.67          643.22         1595.69         1422.05  ...   \n",
      "13093          518.67          643.44         1593.15         1406.82  ...   \n",
      "13094          518.67          643.26         1594.99         1419.36  ...   \n",
      "13095          518.67          642.95         1601.62         1424.99  ...   \n",
      "\n",
      "       SensorMeasure12  SensorMeasure13  SensorMeasure14  SensorMeasure15  \\\n",
      "0               521.72          2388.03          8125.55           8.4052   \n",
      "1               522.16          2388.06          8139.62           8.3803   \n",
      "2               521.97          2388.03          8130.10           8.4441   \n",
      "3               521.38          2388.05          8132.90           8.3917   \n",
      "4               522.15          2388.03          8129.54           8.4031   \n",
      "...                ...              ...              ...              ...   \n",
      "13091           520.69          2388.00          8213.28           8.4715   \n",
      "13092           521.05          2388.09          8210.85           8.4512   \n",
      "13093           521.18          2388.04          8217.24           8.4569   \n",
      "13094           521.33          2388.08          8220.48           8.4711   \n",
      "13095           521.07          2388.05          8214.64           8.4903   \n",
      "\n",
      "       SensorMeasure16  SensorMeasure17  SensorMeasure18  SensorMeasure19  \\\n",
      "0                 0.03              392             2388            100.0   \n",
      "1                 0.03              393             2388            100.0   \n",
      "2                 0.03              393             2388            100.0   \n",
      "3                 0.03              391             2388            100.0   \n",
      "4                 0.03              390             2388            100.0   \n",
      "...                ...              ...              ...              ...   \n",
      "13091             0.03              394             2388            100.0   \n",
      "13092             0.03              395             2388            100.0   \n",
      "13093             0.03              395             2388            100.0   \n",
      "13094             0.03              395             2388            100.0   \n",
      "13095             0.03              396             2388            100.0   \n",
      "\n",
      "       SensorMeasure20  SensorMeasure21  \n",
      "0                38.86          23.3735  \n",
      "1                39.02          23.3916  \n",
      "2                39.08          23.4166  \n",
      "3                39.00          23.3737  \n",
      "4                38.99          23.4130  \n",
      "...                ...              ...  \n",
      "13091            38.65          23.1974  \n",
      "13092            38.57          23.2771  \n",
      "13093            38.62          23.2051  \n",
      "13094            38.66          23.2699  \n",
      "13095            38.70          23.1855  \n",
      "\n",
      "[13096 rows x 27 columns]\n"
     ]
    }
   ],
   "source": [
    "# Loading data sets\n",
    "train_data=pd.read_csv('train_initial_data.csv')\n",
    "train_data.drop('RUL',axis=1,inplace=True)\n",
    "test_data=pd.read_csv('test_initial_data.csv')\n",
    "true_RUL=pd.read_csv('RUL_data.csv')\n",
    "train_data_first_column = train_data['ENGINE_ID']\n",
    "test_data_first_column = test_data['ENGINE_ID']\n",
    "print(train_data)\n",
    "print(test_data)"
   ]
  },
  {
   "cell_type": "code",
   "execution_count": 3,
   "metadata": {},
   "outputs": [],
   "source": [
    "# Calling gpu based torch model\n",
    "import torch\n",
    "torch.manual_seed(1) # No of instances\n",
    "use_cuda = torch.cuda.is_available()\n",
    "device = torch.device(\"cuda\" if use_cuda else \"cpu\")"
   ]
  },
  {
   "cell_type": "markdown",
   "metadata": {},
   "source": [
    "DECLARE THE VARIABLES TO BE USED"
   ]
  },
  {
   "cell_type": "code",
   "execution_count": 4,
   "metadata": {},
   "outputs": [],
   "source": [
    "removed_columns=[]  # Stores the list of columns to be dropped"
   ]
  },
  {
   "cell_type": "markdown",
   "metadata": {},
   "source": [
    "LOAD THE FINAL DATASET AFTER EDA"
   ]
  },
  {
   "cell_type": "code",
   "execution_count": 5,
   "metadata": {},
   "outputs": [
    {
     "name": "stderr",
     "output_type": "stream",
     "text": [
      "Black is not installed, parameters wont be formatted\n",
      "Executing:  30%|███       | 6/20 [00:04<00:08,  1.62cell/s]"
     ]
    },
    {
     "name": "stdout",
     "output_type": "stream",
     "text": [
      "<class 'pandas.core.frame.DataFrame'>\n",
      "RangeIndex: 20631 entries, 0 to 20630\n",
      "Data columns (total 28 columns):\n",
      " #   Column           Non-Null Count  Dtype  \n",
      "---  ------           --------------  -----  \n",
      " 0   ENGINE_ID        20631 non-null  int64  \n",
      " 1   CONDITION_ID     20631 non-null  int64  \n",
      " 2   Cycle_Time       20631 non-null  int64  \n",
      " 3   OpSet1           20631 non-null  float64\n",
      " 4   OpSet2           20631 non-null  float64\n",
      " 5   OpSet3           20631 non-null  float64\n",
      " 6   SensorMeasure1   20631 non-null  float64\n",
      " 7   SensorMeasure2   20631 non-null  float64\n",
      " 8   SensorMeasure3   20631 non-null  float64\n",
      " 9   SensorMeasure4   20631 non-null  float64\n",
      " 10  SensorMeasure5   20631 non-null  float64\n",
      " 11  SensorMeasure6   20631 non-null  float64\n",
      " 12  SensorMeasure7   20631 non-null  float64\n",
      " 13  SensorMeasure8   20631 non-null  float64\n",
      " 14  SensorMeasure9   20631 non-null  float64\n",
      " 15  SensorMeasure10  20631 non-null  float64\n",
      " 16  SensorMeasure11  20631 non-null  float64\n",
      " 17  SensorMeasure12  20631 non-null  float64\n",
      " 18  SensorMeasure13  20631 non-null  float64\n",
      " 19  SensorMeasure14  20631 non-null  float64\n",
      " 20  SensorMeasure15  20631 non-null  float64\n",
      " 21  SensorMeasure16  20631 non-null  float64\n",
      " 22  SensorMeasure17  20631 non-null  int64  \n",
      " 23  SensorMeasure18  20631 non-null  int64  \n",
      " 24  SensorMeasure19  20631 non-null  float64\n",
      " 25  SensorMeasure20  20631 non-null  float64\n",
      " 26  SensorMeasure21  20631 non-null  float64\n",
      " 27  RUL              20631 non-null  int64  \n",
      "dtypes: float64(22), int64(6)\n",
      "memory usage: 4.4 MB\n"
     ]
    },
    {
     "name": "stderr",
     "output_type": "stream",
     "text": [
      "Executing:  40%|████      | 8/20 [00:06<00:07,  1.56cell/s]"
     ]
    },
    {
     "name": "stdout",
     "output_type": "stream",
     "text": [
      "Columns without data: \n",
      "[]\n",
      "\n"
     ]
    },
    {
     "name": "stderr",
     "output_type": "stream",
     "text": [
      "Executing:  50%|█████     | 10/20 [00:07<00:07,  1.41cell/s]"
     ]
    },
    {
     "name": "stdout",
     "output_type": "stream",
     "text": [
      "Columns with constant values: \n",
      "['CONDITION_ID', 'OpSet3', 'SensorMeasure1', 'SensorMeasure5', 'SensorMeasure6', 'SensorMeasure10', 'SensorMeasure16', 'SensorMeasure18', 'SensorMeasure19']\n",
      "\n"
     ]
    },
    {
     "name": "stderr",
     "output_type": "stream",
     "text": [
      "Executing:  80%|████████  | 16/20 [00:12<00:03,  1.08cell/s]"
     ]
    },
    {
     "name": "stdout",
     "output_type": "stream",
     "text": [
      "[0.0365191  0.03063041 0.03170388 0.05755737 0.0394521  0.0224807\n",
      " 0.02888025 0.5870615  0.06606523 0.02170886 0.02521555 0.04234123\n",
      " 0.01038381]\n"
     ]
    },
    {
     "name": "stderr",
     "output_type": "stream",
     "text": [
      "Executing: 100%|██████████| 20/20 [00:14<00:00,  1.35cell/s]\n"
     ]
    }
   ],
   "source": [
    "def call_EDA(file):\n",
    "  filename=file\n",
    "  res = pm.execute_notebook(\n",
    "    'EDA_and_Feature_Selection.ipynb'  ,\n",
    "    'CNN_LSTM_training_model.ipynb',\n",
    "    parameters = dict(filename=filename),\n",
    "    log_output=True,\n",
    "    stdout_file=sys.stdout,\n",
    "    stderr_file=sys.stderr,\n",
    "    )\n",
    "call_EDA('train_initial_data.csv')"
   ]
  },
  {
   "cell_type": "code",
   "execution_count": 6,
   "metadata": {},
   "outputs": [
    {
     "data": {
      "text/plain": [
       "['ENGINE_ID',\n",
       " 'OpSet1',\n",
       " 'OpSet2',\n",
       " 'CONDITION_ID',\n",
       " 'OpSet3',\n",
       " 'SensorMeasure1',\n",
       " 'SensorMeasure5',\n",
       " 'SensorMeasure6',\n",
       " 'SensorMeasure10',\n",
       " 'SensorMeasure16',\n",
       " 'SensorMeasure18',\n",
       " 'SensorMeasure19']"
      ]
     },
     "execution_count": 6,
     "metadata": {},
     "output_type": "execute_result"
    }
   ],
   "source": [
    "#Reading the list of columns to be dropped from training and test files from removed_columns.data\n",
    "import pickle\n",
    "\n",
    "with open('removed_columns.data', 'rb') as filehandle:\n",
    "    # Read the data as a binary data stream\n",
    "    removed_columns = pickle.load(filehandle)\n",
    "removed_columns"
   ]
  },
  {
   "cell_type": "code",
   "execution_count": 7,
   "metadata": {},
   "outputs": [],
   "source": [
    "#Delete columns from removed_columns which are not required"
   ]
  },
  {
   "cell_type": "code",
   "execution_count": 8,
   "metadata": {},
   "outputs": [],
   "source": [
    "#VARIABLES\n",
    "Epochs=400\n",
    "WINDOW_SIZE=30\n",
    "BATCH_SIZE = 210   # No of samples processed before model is updated\n",
    "WINDOW_LENGTH = 30\n",
    "SHIFT = 1\n",
    "EARLY_RUL = 100  # clipping parameter of RUL. RUL above this values are all treated as same   \n",
    "processed_train_data = []\n",
    "processed_train_targets = []\n",
    "\n",
    "# How many test windows to take for each engine. If set to 1 (this is the default), only last window of test data for \n",
    "# each engine is taken. If set to a different number, that many windows from last are taken. \n",
    "# Final output is the average output of all windows.\n",
    "NUM_TEST_WINDOWS = 5  # Default value 1 \n",
    "processed_test_data = []\n",
    "num_test_windows_list = []\n"
   ]
  },
  {
   "cell_type": "code",
   "execution_count": 9,
   "metadata": {},
   "outputs": [],
   "source": [
    "#Process target RUL \n",
    "def process_target_RUL(data_length, early_rul = None):\n",
    "    \"\"\" \n",
    "    Takes datalength and earlyrul as input and \n",
    "    creates target rul.\n",
    "    \"\"\"\n",
    "    if early_rul == None:\n",
    "        return np.arange(data_length-1, -1, -1)\n",
    "    else:\n",
    "        early_rul_duration = data_length - early_rul\n",
    "        if early_rul_duration <= 0:   # \n",
    "            return np.arange(data_length-1, -1, -1)\n",
    "        else:\n",
    "            return np.append(early_rul*np.ones(shape = (early_rul_duration,)), np.arange(early_rul-1, -1, -1))"
   ]
  },
  {
   "cell_type": "code",
   "execution_count": 10,
   "metadata": {},
   "outputs": [],
   "source": [
    "# Creating a numpy array with tuple containing feature and labels\n",
    "def process_dataset_with_target_RUL(input_data, target_data = None, window_length = 1, shift = 1):\n",
    "    \"\"\"\n",
    "    Description:\n",
    "    \n",
    "    Depending on values of window_length and shift, this function generates batchs of data and targets \n",
    "    from input_data and target_data.\n",
    "    \n",
    "    Number of batches taken as a function of engine ID = np.floor((len(input_data) - window_length)/shift) + 1\n",
    "    \n",
    "    **Input dimensions have not been checked and considered to be at par with the requirements**\n",
    "    \n",
    "    Arguments:\n",
    "        input_data: input data to function (2D array containing features and label)\n",
    "        target_data: input RUL values (1D array)\n",
    "        window_length: window length of data\n",
    "        shift: Distance by which the window moves for next batch. This is closely related to overlap\n",
    "               between data. For example, if window length is 30 and shift is 1, there is an overlap of \n",
    "               29 data points between two consecutive batches.\n",
    "        \n",
    "    \"\"\"\n",
    "    num_batches = np.int(np.floor((len(input_data) - window_length)/shift)) + 1\n",
    "    num_features = input_data.shape[1]\n",
    "    output_data = np.repeat(np.nan, repeats = num_batches * window_length * num_features).reshape(num_batches, window_length,\n",
    "                                                                                                  num_features)\n",
    "    if target_data is None:\n",
    "        for batch in range(num_batches):\n",
    "            output_data[batch,:,:] = input_data[(0+shift*batch):(0+shift*batch+window_length),:]\n",
    "        return output_data\n",
    "    else:\n",
    "        output_targets = np.repeat(np.nan, repeats = num_batches)\n",
    "        for batch in range(num_batches):\n",
    "            output_data[batch,:,:] = input_data[(0+shift*batch):(0+shift*batch+window_length),:]\n",
    "            output_targets[batch] = target_data[(shift*batch + (window_length-1))]\n",
    "        return output_data, output_targets"
   ]
  },
  {
   "cell_type": "code",
   "execution_count": 11,
   "metadata": {},
   "outputs": [],
   "source": [
    "#Preparing the feature target array for test data\n",
    "def process_test_data(test_data_for_an_engine, window_length, shift, num_test_windows = 1):\n",
    "    \"\"\" \n",
    "    Process:\n",
    "    \n",
    "    Function takes test data for an engine as first input. The next two inputs\n",
    "    window_length and shift are same as other functins. \n",
    "    \n",
    "    Finally it takes num_test_windows as the last input. num_test_windows sets how many samples we\n",
    "    want from test data (from last). By default it extracts only the last example.\n",
    "    \n",
    "    The function return last examples and number of last examples (a scaler) as output. \n",
    "    We need the second output later. If we are extracting more than 1 last examples, we have to \n",
    "    average their prediction results. The second scaler halps us do just that.\n",
    "    \n",
    "    \"\"\"\n",
    "    max_num_test_batches = np.int(np.floor((len(test_data_for_an_engine) - window_length)/shift)) + 1\n",
    "    if max_num_test_batches < num_test_windows:\n",
    "        required_len = (max_num_test_batches -1)* shift + window_length\n",
    "        batched_test_data_for_an_engine = process_dataset_with_target_RUL(test_data_for_an_engine[-required_len:, :],\n",
    "                                                                          target_data = None,\n",
    "                                                                          window_length = window_length, shift = shift)\n",
    "        return batched_test_data_for_an_engine, max_num_test_batches\n",
    "    else:\n",
    "        required_len = (num_test_windows - 1) * shift + window_length\n",
    "        batched_test_data_for_an_engine = process_dataset_with_target_RUL(test_data_for_an_engine[-required_len:, :],\n",
    "                                                                          target_data = None,\n",
    "                                                                          window_length = window_length, shift = shift)\n",
    "        return batched_test_data_for_an_engine, num_test_windows"
   ]
  },
  {
   "cell_type": "code",
   "execution_count": 12,
   "metadata": {},
   "outputs": [],
   "source": [
    "# Scale data for all engines\n",
    "scaler = MinMaxScaler(feature_range = (-1,1))  # Scale the values of the features between -1 to 1\n",
    "train_data = scaler.fit_transform(train_data.drop(columns = removed_columns))\n",
    "test_data = scaler.transform(test_data.drop(columns = removed_columns))\n",
    "\n",
    "train_data = pd.DataFrame(data = np.c_[train_data_first_column, train_data])\n",
    "test_data = pd.DataFrame(data = np.c_[test_data_first_column, test_data])\n",
    "\n",
    "num_train_machines = len(train_data[0].unique())\n",
    "num_test_machines = len(test_data[0].unique())"
   ]
  },
  {
   "cell_type": "markdown",
   "metadata": {},
   "source": [
    "Process training and test data sepeartely as number of engines in training and test set may be different.\n",
    "As we are doing scaling for full dataset, we are not bothered by different number of engines in training and test set."
   ]
  },
  {
   "cell_type": "code",
   "execution_count": 13,
   "metadata": {},
   "outputs": [
    {
     "name": "stderr",
     "output_type": "stream",
     "text": [
      "C:\\Users\\kanad\\AppData\\Local\\Temp\\ipykernel_4900\\4265167990.py:22: DeprecationWarning: `np.int` is a deprecated alias for the builtin `int`. To silence this warning, use `int` by itself. Doing this will not modify any behavior and is safe. When replacing `np.int`, you may wish to use e.g. `np.int64` or `np.int32` to specify the precision. If you wish to review your current use, check the release note link for additional information.\n",
      "Deprecated in NumPy 1.20; for more details and guidance: https://numpy.org/devdocs/release/1.20.0-notes.html#deprecations\n",
      "  num_batches = np.int(np.floor((len(input_data) - window_length)/shift)) + 1\n"
     ]
    }
   ],
   "source": [
    "# Process train data as input dataset in the CNN\n",
    "for i in np.arange(1, num_train_machines + 1):\n",
    "    temp_train_data = train_data[train_data[0] == i].drop(columns = [0]).values\n",
    "\n",
    "    # Verify if data of given window length can be extracted from training data\n",
    "    if (len(temp_train_data) < WINDOW_LENGTH):\n",
    "        print(\"Train engine {} doesn't have enough data for window_length of {}\".format(i, WINDOW_LENGTH))\n",
    "        raise AssertionError(\"Window length is larger than number of data points for some engines. \"\n",
    "                             \"Try decreasing window length.\")\n",
    "        \n",
    "    temp_train_targets = process_target_RUL(data_length = temp_train_data.shape[0], early_rul = EARLY_RUL)\n",
    "    data_for_a_machine, targets_for_a_machine = process_dataset_with_target_RUL(temp_train_data, temp_train_targets, \n",
    "                                                                                window_length = WINDOW_LENGTH, shift = SHIFT)\n",
    "    \n",
    "    processed_train_data.append(data_for_a_machine)\n",
    "    processed_train_targets.append(targets_for_a_machine)\n",
    "processed_train_data = np.concatenate(processed_train_data)\n",
    "processed_train_targets = np.concatenate(processed_train_targets)"
   ]
  },
  {
   "cell_type": "code",
   "execution_count": 14,
   "metadata": {},
   "outputs": [
    {
     "name": "stderr",
     "output_type": "stream",
     "text": [
      "C:\\Users\\kanad\\AppData\\Local\\Temp\\ipykernel_4900\\3675716629.py:17: DeprecationWarning: `np.int` is a deprecated alias for the builtin `int`. To silence this warning, use `int` by itself. Doing this will not modify any behavior and is safe. When replacing `np.int`, you may wish to use e.g. `np.int64` or `np.int32` to specify the precision. If you wish to review your current use, check the release note link for additional information.\n",
      "Deprecated in NumPy 1.20; for more details and guidance: https://numpy.org/devdocs/release/1.20.0-notes.html#deprecations\n",
      "  max_num_test_batches = np.int(np.floor((len(test_data_for_an_engine) - window_length)/shift)) + 1\n",
      "C:\\Users\\kanad\\AppData\\Local\\Temp\\ipykernel_4900\\4265167990.py:22: DeprecationWarning: `np.int` is a deprecated alias for the builtin `int`. To silence this warning, use `int` by itself. Doing this will not modify any behavior and is safe. When replacing `np.int`, you may wish to use e.g. `np.int64` or `np.int32` to specify the precision. If you wish to review your current use, check the release note link for additional information.\n",
      "Deprecated in NumPy 1.20; for more details and guidance: https://numpy.org/devdocs/release/1.20.0-notes.html#deprecations\n",
      "  num_batches = np.int(np.floor((len(input_data) - window_length)/shift)) + 1\n"
     ]
    },
    {
     "data": {
      "text/plain": [
       "array([100,  98,  69,  82,  91,  93,  91,  95, 100,  96,  97, 100,  95,\n",
       "       100,  83,  84,  50,  28,  87,  16,  57, 100, 100,  20, 100, 100,\n",
       "        66,  97,  90, 100,   8,  48, 100,   7,  11,  19,  21,  50, 100,\n",
       "        28,  18,  10,  59, 100, 100,  47, 100,  92,  21,  79, 100,  29,\n",
       "        26,  97, 100,  15, 100,  37, 100, 100,  21,  54,  72,  28, 100,\n",
       "        14,  77,   8, 100,  94, 100,  50, 100, 100, 100,  10,  34, 100,\n",
       "        63,  90,   8,   9, 100,  58, 100,  89, 100, 100, 100,  28,  38,\n",
       "        20,  85,  55, 100, 100,  82,  59, 100,  20], dtype=int64)"
      ]
     },
     "execution_count": 14,
     "metadata": {},
     "output_type": "execute_result"
    }
   ],
   "source": [
    "# Process test data\n",
    "for i in np.arange(1, num_test_machines + 1):\n",
    "    temp_test_data = test_data[test_data[0] == i].drop(columns = [0]).values\n",
    "    \n",
    "    # Verify if data of given window length can be extracted from test data\n",
    "    if (len(temp_test_data) < WINDOW_LENGTH):\n",
    "        print(\"Test engine {} doesn't have enough data for window_length of {}\".format(i, WINDOW_LENGTH))\n",
    "        raise AssertionError(\"Window length is larger than number of data points for some engines. \"\n",
    "                             \"Try decreasing window length.\")\n",
    "    \n",
    "    # Prepare test data\n",
    "    test_data_for_an_engine, num_windows = process_test_data(temp_test_data, window_length = WINDOW_LENGTH, shift = SHIFT,\n",
    "                                                             num_test_windows = NUM_TEST_WINDOWS)\n",
    "    \n",
    "    processed_test_data.append(test_data_for_an_engine)\n",
    "    num_test_windows_list.append(num_windows)\n",
    "\n",
    "processed_test_data = np.concatenate(processed_test_data)\n",
    "true_RUL = (true_RUL['0'].values).clip(max=EARLY_RUL)  # CLIPPING Values\n",
    "true_RUL"
   ]
  },
  {
   "cell_type": "code",
   "execution_count": 15,
   "metadata": {},
   "outputs": [
    {
     "name": "stdout",
     "output_type": "stream",
     "text": [
      "Processed training data shape:  (17731, 30, 15)\n",
      "Processed training ruls shape:  (17731,)\n",
      "Processed test data shape:  (497, 30, 15)\n",
      "True RUL shape:  (100,)\n"
     ]
    }
   ],
   "source": [
    "# Shuffle training data\n",
    "index = np.random.permutation(len(processed_train_targets))\n",
    "processed_train_data, processed_train_targets = processed_train_data[index], processed_train_targets[index]\n",
    "\n",
    "print(\"Processed training data shape: \", processed_train_data.shape)\n",
    "print(\"Processed training ruls shape: \", processed_train_targets.shape)\n",
    "print(\"Processed test data shape: \", processed_test_data.shape)\n",
    "print(\"True RUL shape: \", true_RUL.shape)"
   ]
  },
  {
   "cell_type": "code",
   "execution_count": 16,
   "metadata": {},
   "outputs": [
    {
     "name": "stdout",
     "output_type": "stream",
     "text": [
      "Processed train data shape:  (14184, 30, 15)\n",
      "Processed validation data shape:  (3547, 30, 15)\n",
      "Processed train targets shape:  (14184,)\n",
      "Processed validation targets shape:  (3547,)\n"
     ]
    }
   ],
   "source": [
    "processed_train_data, processed_val_data, processed_train_targets, processed_val_targets = train_test_split(processed_train_data,\n",
    "                                                                                                            processed_train_targets,\n",
    "                                                                                                            test_size = 0.2,\n",
    "                                                                                                            random_state = 83)\n",
    "print(\"Processed train data shape: \", processed_train_data.shape)\n",
    "print(\"Processed validation data shape: \", processed_val_data.shape)\n",
    "print(\"Processed train targets shape: \", processed_train_targets.shape)\n",
    "print(\"Processed validation targets shape: \", processed_val_targets.shape)"
   ]
  },
  {
   "cell_type": "code",
   "execution_count": 17,
   "metadata": {},
   "outputs": [],
   "source": [
    "# Import packages required for CNN_LSTM model\n",
    "from keras.models import Sequential\n",
    "from keras.layers import Dense, Conv1D   #Conv1D is used for 1D array shapes especially when data is stored in form of batches\n",
    "from keras.layers import Dropout, Input\n",
    "from keras import initializers\n",
    "from keras.layers import MaxPooling1D\n",
    "from keras.models import Model \n",
    "from keras.layers import TimeDistributed, Flatten\n",
    "from keras.layers.core import Dense, Activation, Dropout\n",
    "from keras.layers import LSTM"
   ]
  },
  {
   "cell_type": "code",
   "execution_count": 18,
   "metadata": {},
   "outputs": [],
   "source": [
    "'''\n",
    "Learn and understand the effect of different parameters\n",
    "'''\n",
    "# Declare important variables\n",
    "Learning_rate=0.001   #defined as lr in function\n",
    "# Create Model\n",
    "def create_compiled_model(lr=0.001, drop_CNN=0, drop_dense=0.2, kernel_size=3):\n",
    "    model = Sequential()\n",
    "    intput_shape=(WINDOW_LENGTH, processed_train_data.shape[2])\n",
    "    model.add(Conv1D(128, kernel_size=kernel_size, padding = \"same\", activation=\"relu\", input_shape = intput_shape))\n",
    "    model.add(Dropout(drop_CNN))\n",
    "    model.add(MaxPooling1D(pool_size=2, padding='same'))\n",
    "    model.add(Conv1D(128,kernel_size=kernel_size, padding = \"same\", activation=\"relu\"))\n",
    "    model.add(Dropout(drop_CNN))\n",
    "    model.add(MaxPooling1D(pool_size=2, padding='same'))\n",
    "    model.add(TimeDistributed(Flatten()))\n",
    "    model.add(LSTM(units = 128, return_sequences=True))\n",
    "    model.add(LSTM(units = 128, return_sequences=False))\n",
    "    model.add(Dense(200, activation='relu'))\n",
    "    model.add(Dropout(drop_dense))\n",
    "    model.add(Dense(1, activation = 'linear'))\n",
    "    opt = tf.keras.optimizers.Adam(learning_rate=lr)\n",
    "    model.compile(optimizer=opt, loss='mse')\n",
    "\n",
    "    return model"
   ]
  },
  {
   "cell_type": "code",
   "execution_count": 19,
   "metadata": {},
   "outputs": [
    {
     "name": "stdout",
     "output_type": "stream",
     "text": [
      "Epoch 1/20\n",
      "237/237 [==============================] - 7s 17ms/step - loss: 1034.7371\n",
      "Epoch 2/20\n",
      "237/237 [==============================] - 4s 15ms/step - loss: 162.6125\n",
      "Epoch 3/20\n",
      "237/237 [==============================] - 4s 15ms/step - loss: 104.1385\n",
      "Epoch 4/20\n",
      "237/237 [==============================] - 4s 18ms/step - loss: 85.4348\n",
      "Epoch 5/20\n",
      "237/237 [==============================] - 4s 16ms/step - loss: 70.8908\n",
      "Epoch 6/20\n",
      "237/237 [==============================] - 5s 19ms/step - loss: 65.9805\n",
      "Epoch 7/20\n",
      "237/237 [==============================] - 4s 18ms/step - loss: 61.3368\n",
      "Epoch 8/20\n",
      "237/237 [==============================] - 4s 19ms/step - loss: 55.7949\n",
      "Epoch 9/20\n",
      "237/237 [==============================] - 4s 18ms/step - loss: 50.4490\n",
      "Epoch 10/20\n",
      "237/237 [==============================] - 4s 18ms/step - loss: 44.3892\n",
      "Epoch 11/20\n",
      "237/237 [==============================] - 4s 18ms/step - loss: 41.4553\n",
      "Epoch 12/20\n",
      "237/237 [==============================] - 4s 18ms/step - loss: 38.5903\n",
      "Epoch 13/20\n",
      "237/237 [==============================] - 4s 17ms/step - loss: 35.9072\n",
      "Epoch 14/20\n",
      "237/237 [==============================] - 4s 18ms/step - loss: 34.7101\n",
      "Epoch 15/20\n",
      "237/237 [==============================] - 4s 18ms/step - loss: 32.7737\n",
      "Epoch 16/20\n",
      "237/237 [==============================] - 4s 17ms/step - loss: 33.4600\n",
      "Epoch 17/20\n",
      "237/237 [==============================] - 4s 17ms/step - loss: 30.2692\n",
      "Epoch 18/20\n",
      "237/237 [==============================] - 4s 17ms/step - loss: 31.1442\n",
      "Epoch 19/20\n",
      "237/237 [==============================] - 4s 17ms/step - loss: 30.4306\n",
      "Epoch 20/20\n",
      "237/237 [==============================] - 4s 17ms/step - loss: 27.0276\n"
     ]
    }
   ],
   "source": [
    "# Model Creation and call\n",
    "def scheduler(epoch):\n",
    "    if epoch < 10:\n",
    "        return 0.001\n",
    "    else:\n",
    "        return 0.0001\n",
    "callback = tf.keras.callbacks.LearningRateScheduler(scheduler, verbose = 1)\n",
    "model = create_compiled_model()  # creating model\n",
    "history = model.fit(processed_train_data, processed_train_targets, epochs = 20,\n",
    "                    batch_size = 60)"
   ]
  },
  {
   "cell_type": "code",
   "execution_count": 20,
   "metadata": {},
   "outputs": [
    {
     "data": {
      "text/plain": [
       "'\"\\nplt.figure()\\nplt.xlabel(\\'Epoch\\')\\nplt.plot(history[\\'epoch\\'], np.array(history[\\'loss\\']), label=\\'Train Loss\\')\\nplt.plot(history[\\'epoch\\'], np.array(history[\\'val_loss\\']), label = \\'Validation loss\\')\\nplt.legend()\\n'"
      ]
     },
     "execution_count": 20,
     "metadata": {},
     "output_type": "execute_result"
    }
   ],
   "source": [
    "\"\"\"\"\n",
    "plt.figure()\n",
    "plt.xlabel('Epoch')\n",
    "plt.plot(history['epoch'], np.array(history['loss']), label='Train Loss')\n",
    "plt.plot(history['epoch'], np.array(history['val_loss']), label = 'Validation loss')\n",
    "plt.legend()\n",
    "\"\"\""
   ]
  },
  {
   "cell_type": "code",
   "execution_count": 21,
   "metadata": {},
   "outputs": [
    {
     "name": "stdout",
     "output_type": "stream",
     "text": [
      "Model: \"sequential\"\n",
      "_________________________________________________________________\n",
      " Layer (type)                Output Shape              Param #   \n",
      "=================================================================\n",
      " conv1d (Conv1D)             (None, 30, 128)           5888      \n",
      "                                                                 \n",
      " dropout (Dropout)           (None, 30, 128)           0         \n",
      "                                                                 \n",
      " max_pooling1d (MaxPooling1D  (None, 15, 128)          0         \n",
      " )                                                               \n",
      "                                                                 \n",
      " conv1d_1 (Conv1D)           (None, 15, 128)           49280     \n",
      "                                                                 \n",
      " dropout_1 (Dropout)         (None, 15, 128)           0         \n",
      "                                                                 \n",
      " max_pooling1d_1 (MaxPooling  (None, 8, 128)           0         \n",
      " 1D)                                                             \n",
      "                                                                 \n",
      " time_distributed (TimeDistr  (None, 8, 128)           0         \n",
      " ibuted)                                                         \n",
      "                                                                 \n",
      " lstm (LSTM)                 (None, 8, 128)            131584    \n",
      "                                                                 \n",
      " lstm_1 (LSTM)               (None, 128)               131584    \n",
      "                                                                 \n",
      " dense (Dense)               (None, 200)               25800     \n",
      "                                                                 \n",
      " dropout_2 (Dropout)         (None, 200)               0         \n",
      "                                                                 \n",
      " dense_1 (Dense)             (None, 1)                 201       \n",
      "                                                                 \n",
      "=================================================================\n",
      "Total params: 344,337\n",
      "Trainable params: 344,337\n",
      "Non-trainable params: 0\n",
      "_________________________________________________________________\n",
      "None\n"
     ]
    }
   ],
   "source": [
    "#Provide model summary as output\n",
    "print(model.summary())"
   ]
  },
  {
   "cell_type": "code",
   "execution_count": 22,
   "metadata": {},
   "outputs": [
    {
     "name": "stdout",
     "output_type": "stream",
     "text": [
      "16/16 [==============================] - 1s 4ms/step\n",
      "RMSE:  8.917775003528407\n"
     ]
    }
   ],
   "source": [
    "#Calculate RMSE\n",
    "rul_pred = model.predict(processed_test_data).reshape(-1)\n",
    "preds_for_each_engine = np.split(rul_pred, np.cumsum(num_test_windows_list)[:-1])\n",
    "mean_pred_for_each_engine = [np.average(ruls_for_each_engine, weights = np.repeat(1/num_windows, num_windows)) \n",
    "                             for ruls_for_each_engine, num_windows in zip(preds_for_each_engine, num_test_windows_list)]\n",
    "RMSE = np.sqrt(mean_squared_error(true_RUL, mean_pred_for_each_engine))\n",
    "print(\"RMSE: \", RMSE)"
   ]
  },
  {
   "cell_type": "code",
   "execution_count": 23,
   "metadata": {},
   "outputs": [],
   "source": [
    "#Save model\n",
    "#torch.save(model, \"turbofan_initial.pt\")  \n",
    "model.save(\"Mymodel.h5\")"
   ]
  },
  {
   "cell_type": "code",
   "execution_count": 24,
   "metadata": {},
   "outputs": [
    {
     "name": "stdout",
     "output_type": "stream",
     "text": [
      "RMSE (Taking only last examples):  9.190267601115776\n"
     ]
    }
   ],
   "source": [
    "#Compute the RMSE by taking only last example of each engine.\n",
    "\n",
    "indices_of_last_examples = np.cumsum(num_test_windows_list) - 1\n",
    "preds_for_last_example = np.concatenate(preds_for_each_engine)[indices_of_last_examples]\n",
    "\n",
    "RMSE_new = np.sqrt(mean_squared_error(true_RUL, preds_for_last_example))\n",
    "print(\"RMSE (Taking only last examples): \", RMSE_new)"
   ]
  },
  {
   "cell_type": "code",
   "execution_count": 25,
   "metadata": {},
   "outputs": [
    {
     "name": "stdout",
     "output_type": "stream",
     "text": [
      "S-score:  111.67986312748222\n"
     ]
    }
   ],
   "source": [
    "#Compute S score\n",
    "def compute_s_score(rul_true, rul_pred):\n",
    "    \"\"\"\n",
    "    Both rul_true and rul_pred should be 1D numpy arrays.\n",
    "    \"\"\"\n",
    "    diff = rul_pred - rul_true\n",
    "    return np.sum(np.where(diff < 0, np.exp(-diff/13)-1, np.exp(diff/10)-1))\n",
    "s_score = compute_s_score(true_RUL, preds_for_last_example)\n",
    "print(\"S-score: \", s_score)"
   ]
  },
  {
   "cell_type": "code",
   "execution_count": 26,
   "metadata": {},
   "outputs": [
    {
     "data": {
      "image/png": "[encoded data removed]",
      "text/plain": [
       "<Figure size 640x480 with 1 Axes>"
      ]
     },
     "metadata": {},
     "output_type": "display_data"
    }
   ],
   "source": [
    "# Plot true and predicted RUL values\n",
    "SMALL_SIZE=10\n",
    "MEDIUM_SIZE=15\n",
    "BIGGER_SIZE=15\n",
    "plt.plot(true_RUL, label = \"True RUL\", color = \"red\")\n",
    "plt.rc('font', size=SMALL_SIZE)          # controls default text sizes\n",
    "plt.rc('axes', titlesize=SMALL_SIZE)     # fontsize of the axes title\n",
    "plt.rc('axes', labelsize=MEDIUM_SIZE)    # fontsize of the x and y labels\n",
    "plt.rc('xtick', labelsize=SMALL_SIZE)    # fontsize of the tick labels\n",
    "plt.rc('ytick', labelsize=SMALL_SIZE)    # fontsize of the tick labels\n",
    "plt.rc('legend', fontsize=SMALL_SIZE)    # legend fontsize\n",
    "plt.rc('figure', titlesize=BIGGER_SIZE)  # fontsize of the figure title\n",
    "plt.plot(preds_for_last_example, label = \"Pred RUL\", color = \"blue\")\n",
    "plt.legend(fontsize=15)\n",
    "plt.show()"
   ]
  },
  {
   "cell_type": "code",
   "execution_count": 27,
   "metadata": {},
   "outputs": [
    {
     "name": "stdout",
     "output_type": "stream",
     "text": [
      "Accuracy:89.0\n"
     ]
    }
   ],
   "source": [
    "#Checking accuaracy for N cycles\n",
    "def Accuracy(true_RUL,preds_for_last_example):\n",
    "  c=0\n",
    "  N=15\n",
    "  for i in range(len(true_RUL)):\n",
    "      if(abs(true_RUL[i]-preds_for_last_example[i])<=N):\n",
    "          c+=1\n",
    "  acc=c/len(true_RUL)*100\n",
    "  print(\"Accuracy:\"+str(acc))\n",
    "Accuracy(true_RUL,preds_for_last_example)\n"
   ]
  },
  {
   "cell_type": "code",
   "execution_count": 28,
   "metadata": {},
   "outputs": [
    {
     "data": {
      "text/plain": [
       "(array([ 2.,  0.,  1.,  3.,  1.,  7.,  5.,  8., 48.,  8.,  6.,  2.,  0.,\n",
       "         1.,  4.,  1.,  0.,  2.,  0.,  1.]),\n",
       " array([-25.01610565, -22.00060368, -18.9851017 , -15.96959972,\n",
       "        -12.95409775,  -9.93859577,  -6.9230938 ,  -3.90759182,\n",
       "         -0.89208984,   2.12341213,   5.13891411,   8.15441608,\n",
       "         11.16991806,  14.18542004,  17.20092201,  20.21642399,\n",
       "         23.23192596,  26.24742794,  29.26292992,  32.27843189,\n",
       "         35.29393387]),\n",
       " <BarContainer object of 20 artists>)"
      ]
     },
     "execution_count": 28,
     "metadata": {},
     "output_type": "execute_result"
    },
    {
     "data": {
      "image/png": "[encoded data removed]",
      "text/plain": [
       "<Figure size 1000x700 with 1 Axes>"
      ]
     },
     "metadata": {},
     "output_type": "display_data"
    }
   ],
   "source": [
    "#Plot histogram distribution of errors in RUL prediction in cycles\n",
    "c=[]\n",
    "for i in range(len(true_RUL)):\n",
    "    c.append((true_RUL[i]-preds_for_last_example[i]))\n",
    "fig, axs = plt.subplots(1, 1,\n",
    "                        figsize =(10, 7),\n",
    "                        tight_layout = True)\n",
    " \n",
    "axs.hist(c, bins = 20)\n",
    " "
   ]
  }
 ],
 "metadata": {
  "kernelspec": {
   "display_name": "Python 3.9.13 64-bit",
   "language": "python",
   "name": "python3"
  },
  "language_info": {
   "codemirror_mode": {
    "name": "ipython",
    "version": 3
   },
   "file_extension": ".py",
   "mimetype": "text/x-python",
   "name": "python",
   "nbconvert_exporter": "python",
   "pygments_lexer": "ipython3",
   "version": "3.9.13"
  },
  "orig_nbformat": 4,
  "vscode": {
   "interpreter": {
    "hash": "b9f7f17e2dfc0342ad8fd0225d136ef60900e874e384a8df6732177035c72636"
   }
  }
 },
 "nbformat": 4,
 "nbformat_minor": 2
}
