{
 "cells": [
  {
   "cell_type": "markdown",
   "metadata": {},
   "source": [
    "IMPORTING REQUIRED PACKAGES"
   ]
  },
  {
   "cell_type": "code",
   "execution_count": 9,
   "metadata": {},
   "outputs": [],
   "source": [
    "import tensorflow as tf\n",
    "import numpy as np\n",
    "import pandas as pd\n",
    "import sklearn\n",
    "import os\n",
    "import seaborn as sns\n",
    "from sklearn.model_selection import train_test_split\n",
    "import sys\n",
    "from sklearn.preprocessing import StandardScaler\n",
    "from sklearn.metrics import mean_squared_error\n",
    "import matplotlib.pyplot as plt\n",
    "import random\n",
    "import json\n",
    "import papermill as pm\n",
    "np.random.seed(34)\n"
   ]
  },
  {
   "cell_type": "markdown",
   "metadata": {},
   "source": [
    "DECLARE THE VARIABLES TO BE USED"
   ]
  },
  {
   "cell_type": "code",
   "execution_count": 10,
   "metadata": {},
   "outputs": [],
   "source": [
    "removed_columns=[]  # Stores the list of columns to be dropped"
   ]
  },
  {
   "cell_type": "markdown",
   "metadata": {},
   "source": [
    "LOAD THE FINAL DATASET AFTER EDA"
   ]
  },
  {
   "cell_type": "code",
   "execution_count": 11,
   "metadata": {},
   "outputs": [
    {
     "data": {
      "application/json": {
       "ascii": false,
       "bar_format": null,
       "colour": null,
       "elapsed": 0.011136293411254883,
       "initial": 0,
       "n": 0,
       "ncols": null,
       "nrows": null,
       "postfix": null,
       "prefix": "Executing",
       "rate": null,
       "total": 20,
       "unit": "cell",
       "unit_divisor": 1000,
       "unit_scale": false
      },
      "application/vnd.jupyter.widget-view+json": {
       "model_id": "835b7dd783d3402aa7bae665c7d27442",
       "version_major": 2,
       "version_minor": 0
      },
      "text/plain": [
       "Executing:   0%|          | 0/20 [00:00<?, ?cell/s]"
      ]
     },
     "metadata": {},
     "output_type": "display_data"
    },
    {
     "name": "stdout",
     "output_type": "stream",
     "text": [
      "<class 'pandas.core.frame.DataFrame'>\n",
      "RangeIndex: 20631 entries, 0 to 20630\n",
      "Data columns (total 28 columns):\n",
      " #   Column           Non-Null Count  Dtype  \n",
      "---  ------           --------------  -----  \n",
      " 0   ENGINE_ID        20631 non-null  int64  \n",
      " 1   CONDITION_ID     20631 non-null  int64  \n",
      " 2   Cycle_Time       20631 non-null  int64  \n",
      " 3   OpSet1           20631 non-null  float64\n",
      " 4   OpSet2           20631 non-null  float64\n",
      " 5   OpSet3           20631 non-null  float64\n",
      " 6   SensorMeasure1   20631 non-null  float64\n",
      " 7   SensorMeasure2   20631 non-null  float64\n",
      " 8   SensorMeasure3   20631 non-null  float64\n",
      " 9   SensorMeasure4   20631 non-null  float64\n",
      " 10  SensorMeasure5   20631 non-null  float64\n",
      " 11  SensorMeasure6   20631 non-null  float64\n",
      " 12  SensorMeasure7   20631 non-null  float64\n",
      " 13  SensorMeasure8   20631 non-null  float64\n",
      " 14  SensorMeasure9   20631 non-null  float64\n",
      " 15  SensorMeasure10  20631 non-null  float64\n",
      " 16  SensorMeasure11  20631 non-null  float64\n",
      " 17  SensorMeasure12  20631 non-null  float64\n",
      " 18  SensorMeasure13  20631 non-null  float64\n",
      " 19  SensorMeasure14  20631 non-null  float64\n",
      " 20  SensorMeasure15  20631 non-null  float64\n",
      " 21  SensorMeasure16  20631 non-null  float64\n",
      " 22  SensorMeasure17  20631 non-null  int64  \n",
      " 23  SensorMeasure18  20631 non-null  int64  \n",
      " 24  SensorMeasure19  20631 non-null  float64\n",
      " 25  SensorMeasure20  20631 non-null  float64\n",
      " 26  SensorMeasure21  20631 non-null  float64\n",
      " 27  RUL              20631 non-null  int64  \n",
      "dtypes: float64(22), int64(6)\n",
      "memory usage: 4.4 MB\n",
      "Columns without data: \n",
      "[]\n",
      "\n",
      "Columns with constant values: \n",
      "['CONDITION_ID', 'OpSet3', 'SensorMeasure1', 'SensorMeasure5', 'SensorMeasure6', 'SensorMeasure10', 'SensorMeasure16', 'SensorMeasure18', 'SensorMeasure19']\n",
      "\n",
      "[0.03605172 0.03074035 0.03169334 0.05792354 0.03938382 0.02247272\n",
      " 0.02872378 0.58771839 0.06516748 0.0217726  0.02554069 0.04248663\n",
      " 0.01032494]\n"
     ]
    }
   ],
   "source": [
    "def call_EDA(file):\n",
    "  filename=file\n",
    "  res = pm.execute_notebook(\n",
    "    'EDA_and_Feature_Selection.ipynb'  ,\n",
    "    'CNN_LSTM_training_model.ipynb',\n",
    "    parameters = dict(filename=filename),\n",
    "    log_output=True,\n",
    "    stdout_file=sys.stdout,\n",
    "    stderr_file=sys.stderr,\n",
    "    )\n",
    "call_EDA('file1.csv')"
   ]
  },
  {
   "cell_type": "code",
   "execution_count": 12,
   "metadata": {},
   "outputs": [
    {
     "data": {
      "text/plain": [
       "['ENGINE_ID',\n",
       " 'OpSet1',\n",
       " 'OpSet2',\n",
       " 'CONDITION_ID',\n",
       " 'OpSet3',\n",
       " 'SensorMeasure1',\n",
       " 'SensorMeasure5',\n",
       " 'SensorMeasure6',\n",
       " 'SensorMeasure10',\n",
       " 'SensorMeasure16',\n",
       " 'SensorMeasure18',\n",
       " 'SensorMeasure19']"
      ]
     },
     "execution_count": 12,
     "metadata": {},
     "output_type": "execute_result"
    }
   ],
   "source": [
    "#Reading the list of columns to be dropped from training and test files from removed_columns.data\n",
    "import pickle\n",
    "\n",
    "with open('removed_columns.data', 'rb') as filehandle:\n",
    "    # Read the data as a binary data stream\n",
    "    removed_columns = pickle.load(filehandle)\n",
    "removed_columns"
   ]
  }
 ],
 "metadata": {
  "kernelspec": {
   "display_name": "Python 3.10.6 64-bit",
   "language": "python",
   "name": "python3"
  },
  "language_info": {
   "codemirror_mode": {
    "name": "ipython",
    "version": 3
   },
   "file_extension": ".py",
   "mimetype": "text/x-python",
   "name": "python",
   "nbconvert_exporter": "python",
   "pygments_lexer": "ipython3",
   "version": "3.10.6"
  },
  "orig_nbformat": 4,
  "vscode": {
   "interpreter": {
    "hash": "e3690ab1f2966f90930f31177e7e4bc8912eaec9459a68fe543e20f6f7018934"
   }
  }
 },
 "nbformat": 4,
 "nbformat_minor": 2
}
